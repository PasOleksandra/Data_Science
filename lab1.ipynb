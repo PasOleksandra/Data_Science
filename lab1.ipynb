{
 "cells": [
  {
   "cell_type": "code",
   "execution_count": null,
   "id": "767b35e8-6bd8-46c3-9b9b-7eaabe2e5a74",
   "metadata": {},
   "outputs": [],
   "source": []
  },
  {
   "cell_type": "markdown",
   "id": "358f4993-63e2-4c1b-aa57-c6b560e03f75",
   "metadata": {},
   "source": [
    "# Призначення Jupyter Notebook\n",
    "\n",
    "Jupyter Notebook — це веб-застосунок, який дозволяє створювати та ділитися документами, що містять живий код, рівняння, візуалізації та пояснювальні тексти. Його використовують для аналізу даних, проведення досліджень, створення навчальних матеріалів та багато іншого.\n"
   ]
  },
  {
   "cell_type": "code",
   "execution_count": 1,
   "id": "1e6e5c63-cb6a-44ae-bdc6-e0198dbbf033",
   "metadata": {},
   "outputs": [
    {
     "name": "stdin",
     "output_type": "stream",
     "text": [
      "Please enter your name:  Oleksandra\n"
     ]
    },
    {
     "name": "stdout",
     "output_type": "stream",
     "text": [
      "Hello, Oleksandra!\n"
     ]
    },
    {
     "ename": "ModuleNotFoundError",
     "evalue": "No module named 'numpy'",
     "output_type": "error",
     "traceback": [
      "\u001b[1;31m---------------------------------------------------------------------------\u001b[0m",
      "\u001b[1;31mModuleNotFoundError\u001b[0m                       Traceback (most recent call last)",
      "Cell \u001b[1;32mIn[1], line 6\u001b[0m\n\u001b[0;32m      3\u001b[0m \u001b[38;5;28mprint\u001b[39m(\u001b[38;5;124mf\u001b[39m\u001b[38;5;124m\"\u001b[39m\u001b[38;5;124mHello, \u001b[39m\u001b[38;5;132;01m{\u001b[39;00mname\u001b[38;5;132;01m}\u001b[39;00m\u001b[38;5;124m!\u001b[39m\u001b[38;5;124m\"\u001b[39m)\n\u001b[0;32m      5\u001b[0m \u001b[38;5;66;03m# Використання бібліотеки NumPy для створення масиву з 10 випадкових чисел\u001b[39;00m\n\u001b[1;32m----> 6\u001b[0m \u001b[38;5;28;01mimport\u001b[39;00m \u001b[38;5;21;01mnumpy\u001b[39;00m \u001b[38;5;28;01mas\u001b[39;00m \u001b[38;5;21;01mnp\u001b[39;00m\n\u001b[0;32m      8\u001b[0m random_array \u001b[38;5;241m=\u001b[39m np\u001b[38;5;241m.\u001b[39mrandom\u001b[38;5;241m.\u001b[39mrand(\u001b[38;5;241m10\u001b[39m)\n\u001b[0;32m      9\u001b[0m \u001b[38;5;28mprint\u001b[39m(\u001b[38;5;124mf\u001b[39m\u001b[38;5;124m\"\u001b[39m\u001b[38;5;124mArray: \u001b[39m\u001b[38;5;132;01m{\u001b[39;00mrandom_array\u001b[38;5;132;01m}\u001b[39;00m\u001b[38;5;124m\"\u001b[39m)\n",
      "\u001b[1;31mModuleNotFoundError\u001b[0m: No module named 'numpy'"
     ]
    }
   ],
   "source": [
    "# Запитуємо ім'я користувача та виводимо привітання\n",
    "name = input(\"Please enter your name: \")\n",
    "print(f\"Hello, {name}!\")\n",
    "\n",
    "# Використання бібліотеки NumPy для створення масиву з 10 випадкових чисел\n",
    "import numpy as np\n",
    "\n",
    "random_array = np.random.rand(10)\n",
    "print(f\"Array: {random_array}\")\n",
    "\n",
    "# Обчислення середнього значення масиву\n",
    "mean_value = np.mean(random_array)\n",
    "print(f\"Mean value: {mean_value}\")\n"
   ]
  },
  {
   "cell_type": "code",
   "execution_count": null,
   "id": "054bb0d0-af64-4f0f-a3d8-f883816e155f",
   "metadata": {},
   "outputs": [],
   "source": []
  }
 ],
 "metadata": {
  "kernelspec": {
   "display_name": "Python 3 (ipykernel)",
   "language": "python",
   "name": "python3"
  },
  "language_info": {
   "codemirror_mode": {
    "name": "ipython",
    "version": 3
   },
   "file_extension": ".py",
   "mimetype": "text/x-python",
   "name": "python",
   "nbconvert_exporter": "python",
   "pygments_lexer": "ipython3",
   "version": "3.12.6"
  }
 },
 "nbformat": 4,
 "nbformat_minor": 5
}
