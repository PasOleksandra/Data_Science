{
 "cells": [
  {
   "cell_type": "markdown",
   "id": "1737aa36-b52b-45e4-af7a-5ac68ec4fc1f",
   "metadata": {},
   "source": [
    "# Призначення Jupyter Notebook\n",
    "\n",
    "Jupyter Notebook — це інтерактивне середовище для програмування, яке дозволяє писати код, виконувати його, а також додавати текстові пояснення, математичні формули, графіки та інші елементи. Це потужний інструмент для аналізу даних, машинного навчання та візуалізації даних.\n"
   ]
  },
  {
   "cell_type": "code",
   "execution_count": 1,
   "id": "a137d2f7-ade5-47ac-b05f-8e4b40e8c271",
   "metadata": {},
   "outputs": [
    {
     "name": "stdin",
     "output_type": "stream",
     "text": [
      "Enter your name:  Oleksandra\n"
     ]
    },
    {
     "name": "stdout",
     "output_type": "stream",
     "text": [
      "Hello, Oleksandra!\n",
      "Array of random numbers: [0.35180177 0.98179817 0.01700139 0.72323236 0.56995754 0.64901844\n",
      " 0.02684728 0.97497377 0.65027976 0.43041186]\n",
      "Mean value of the array: 0.5375322350061891\n"
     ]
    }
   ],
   "source": [
    "# Запит і привітання користувача\n",
    "name = input(\"Enter your name: \")\n",
    "print(f\"Hello, {name}!\")\n",
    "\n",
    "# Використання бібліотеки NumPy\n",
    "import numpy as np\n",
    "\n",
    "# Створення масиву з 10 випадкових чисел\n",
    "random_array = np.random.rand(10)\n",
    "\n",
    "# Обчислення середнього значення масиву\n",
    "mean_value = np.mean(random_array)\n",
    "\n",
    "# Виведення результату\n",
    "print(\"Array of random numbers:\", random_array)\n",
    "print(\"Mean value of the array:\", mean_value)\n"
   ]
  },
  {
   "cell_type": "code",
   "execution_count": null,
   "id": "e05d9a8d-b199-47b5-aeac-fff15d8be9f7",
   "metadata": {},
   "outputs": [],
   "source": []
  }
 ],
 "metadata": {
  "kernelspec": {
   "display_name": "Python 3 (ipykernel)",
   "language": "python",
   "name": "python3"
  },
  "language_info": {
   "codemirror_mode": {
    "name": "ipython",
    "version": 3
   },
   "file_extension": ".py",
   "mimetype": "text/x-python",
   "name": "python",
   "nbconvert_exporter": "python",
   "pygments_lexer": "ipython3",
   "version": "3.12.6"
  }
 },
 "nbformat": 4,
 "nbformat_minor": 5
}
